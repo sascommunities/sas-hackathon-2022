{
 "cells": [
  {
   "cell_type": "markdown",
   "id": "852374b6-30fd-4c28-81b2-2ef44cb8413e",
   "metadata": {
    "tags": []
   },
   "source": [
    "# Create Access Token Notebook\n",
    "- The Hackathon team has registered a client called hack_client. \n",
    "- Use this client_id to create an access token you can use in the Jupyter environment or externally for API calls to SAS Viya.\n",
    "- Only one access token is needed for each team member and it is placed in the /home/user@email.com/access_token.txt file.\n",
    "- Additional access token information is found at the end of this notebook.\n",
    "- Find detailed information about client registration and access tokens in this blog post: [Authentication to SAS Viya: a couple of approaches](https://blogs.sas.com/content/sgf/2021/09/24/authentication-to-sas-viya/)\n",
    "\n",
    "### Run the cell below and follow the resulting instructions."
   ]
  },
  {
   "cell_type": "code",
   "execution_count": null,
   "id": "ff6dadb5-4754-4dfa-8606-ca50fe228585",
   "metadata": {},
   "outputs": [],
   "source": [
    "library('httr')\n",
    "\n",
    "# reading environment url\n",
    "codeURL <- readLines(\"/home/shared_data/Authorization_Code_URL.txt\", warn=F)\n",
    "baseURL <- unlist(strsplit(codeURL, '/'))[3]\n",
    "\n",
    "print(glue::glue(\"* Please visit the following site {codeURL}\"))\n",
    "print(glue::glue(\"* At the login prompt, add your SAS login Hackathon credentials\"))\n",
    "print(glue::glue(\"* Once authenticated, you'll be redirected to an authoriztion screen, check all of the boxes that appear\"))\n",
    "print(glue::glue(\"* This will result in a short string of numbers and letters such as `VAxVFVEnKr`; this is your authorization code; copy the code\"))\n",
    "code <- readline(\"Please enter the code you generated through the previous instructions: \")\n",
    "\n",
    "# create API URL\n",
    "url <- glue::glue(\"https://{baseURL}/SASLogon/oauth/token?grant_type=authorization_code&code={code}\")\n",
    "\n",
    "# make API call to generate access token\n",
    "response <- GET(\n",
    "            url = url,\n",
    "            add_headers(\n",
    "            \"Accept\"=\"application/json\",\n",
    "            \"Content-Type\" = \"application/x-www-form-urlencoded\",\n",
    "            \"Authorization\" = \"Basic aGFja19jbGllbnQ6aGFja19zZWNyZXQ=\"\n",
    "            )\n",
    ")\n",
    "\n",
    "# parse results and create token variable\n",
    "access_token <- jsonlite::fromJSON(content(response, as = \"text\"))$access_token\n",
    "print(jsonlite::fromJSON(content(response, as = \"text\")))\n",
    "\n",
    "directory <- getwd()\n",
    "writeLines(access_token, glue::glue(\"{directory}/access_token.txt\"))\n",
    "\n",
    "print(glue::glue(\"The access token was stored for you as {directory}/access_token.txt\"))"
   ]
  },
  {
   "cell_type": "markdown",
   "id": "b2028e9a-1cea-4ec3-a33c-998c0b6e3cc3",
   "metadata": {
    "tags": []
   },
   "source": [
    "## Notes on the access token\n",
    "- The access token has a 30 day time-to-live (ttl), so you should be able to use the same access token throughout the hackathon.\n",
    "- The authorization code is good for 30 minutes and is only good for a single use. \n",
    "- You can generate a new authorization code by reusing the authorization url.\n",
    "- The access_token is valid in this Notebook and is transferable to other notebooks and used for external API calls.\n",
    "- If you need to register additional clients, talk to your Hackathon mentor."
   ]
  }
 ],
 "metadata": {
  "kernelspec": {
   "display_name": "R",
   "language": "R",
   "name": "ir"
  },
  "language_info": {
   "codemirror_mode": "r",
   "file_extension": ".r",
   "mimetype": "text/x-r-source",
   "name": "R",
   "pygments_lexer": "r",
   "version": "4.0.2"
  }
 },
 "nbformat": 4,
 "nbformat_minor": 5
}
