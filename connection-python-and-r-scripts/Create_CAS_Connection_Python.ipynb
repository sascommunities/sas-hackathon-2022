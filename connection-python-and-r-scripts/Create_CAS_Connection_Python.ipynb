{
 "cells": [
  {
   "cell_type": "markdown",
   "id": "45d66029-38bd-4040-89a7-721b48558021",
   "metadata": {
    "tags": []
   },
   "source": [
    "# Setting up a SWAT Connection for Python\n",
    "- **Please** ensure that you have run through the *Create_Access_Token_Python notebook*\n",
    "- You need the access token to connect to CAS\n",
    "\n",
    "### Run the cell below to make a CAS connection"
   ]
  },
  {
   "cell_type": "code",
   "execution_count": null,
   "id": "fcbec030-dc3d-4488-93f1-63716599c351",
   "metadata": {},
   "outputs": [],
   "source": [
    "import swat\n",
    "import os\n",
    "\n",
    "# Get Information for the Connection\n",
    "file = open(\"/home/shared_data/Authorization_Code_URL.txt\")\n",
    "# read the file as a list\n",
    "data = file.readlines()\n",
    "# close the file\n",
    "file.close()\n",
    "\n",
    "baseURL = data[0].split('/')[2]\n",
    "\n",
    "directory = os.getcwd()\n",
    "file = open(directory + \"/access_token.txt\")\n",
    "# read the file as a list\n",
    "data = file.readlines()\n",
    "# close the file\n",
    "file.close()\n",
    "\n",
    "code = data[0]\n",
    "# Establish a CAS session\n",
    "conn = swat.CAS(f\"https://{baseURL}/cas-shared-default-http\", username=None, password=code)\n",
    "\n",
    "# Verify connection details\n",
    "conn"
   ]
  },
  {
   "cell_type": "markdown",
   "id": "477e5737-e72c-41e7-a1c3-4011b2792e95",
   "metadata": {},
   "source": [
    "## Run commands\n",
    "We've provided two simple commands to demonstrate how to make calls to CAS"
   ]
  },
  {
   "cell_type": "code",
   "execution_count": null,
   "id": "347d59ee-113a-441c-8e91-2bab6b5014b6",
   "metadata": {},
   "outputs": [],
   "source": [
    "# Load a data set into CAS\n",
    "conn.table.dropTable(caslib='Public', name='hmeqct', quiet=True)\n",
    "hmeqct = conn.read_csv(\"/home/shared_data/mheq.csv\", casout=dict(caslib='Public', name='hmeqct', promote=True))"
   ]
  },
  {
   "cell_type": "code",
   "execution_count": null,
   "id": "bfa74290-41e4-4d86-9ce7-58b854320b38",
   "metadata": {},
   "outputs": [],
   "source": [
    "# Get head data from table\n",
    "hmeqct.head()"
   ]
  },
  {
   "cell_type": "code",
   "execution_count": null,
   "id": "f4cb8276-7f86-4309-97c7-3794651e1bd0",
   "metadata": {},
   "outputs": [],
   "source": [
    "# Ends the CAS session\n",
    "conn.close()"
   ]
  },
  {
   "cell_type": "code",
   "execution_count": null,
   "id": "e275d768-6073-42ca-ad91-7f92c286e1bb",
   "metadata": {},
   "outputs": [],
   "source": []
  }
 ],
 "metadata": {
  "kernelspec": {
   "display_name": "Python 3 (ipykernel)",
   "language": "python",
   "name": "python3"
  },
  "language_info": {
   "codemirror_mode": {
    "name": "ipython",
    "version": 3
   },
   "file_extension": ".py",
   "mimetype": "text/x-python",
   "name": "python",
   "nbconvert_exporter": "python",
   "pygments_lexer": "ipython3",
   "version": "3.9.7"
  }
 },
 "nbformat": 4,
 "nbformat_minor": 5
}
