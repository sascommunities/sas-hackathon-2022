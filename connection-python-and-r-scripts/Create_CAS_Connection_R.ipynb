{
 "cells": [
  {
   "cell_type": "markdown",
   "id": "1abc276f-b1c6-43d7-9213-a69ec493efae",
   "metadata": {},
   "source": [
    "# Setting up a SWAT Connection for R\n",
    "- **Please** ensure that you have run through the *Create_Access_Token_R notebook*\n",
    "- You need the access token to connect to CAS\n",
    "\n",
    "### Run the cell below to make a CAS connection"
   ]
  },
  {
   "cell_type": "code",
   "execution_count": null,
   "id": "90051e9a-d78e-4452-9455-80b414f3fa52",
   "metadata": {},
   "outputs": [],
   "source": [
    "library(\"swat\")\n",
    "\n",
    "# Get Information for the Connection\n",
    "# read the file as a string\n",
    "lines <- readLines('/home/shared_data/Authorization_Code_URL.txt', warn = F)\n",
    "\n",
    "baseURL <- unlist(strsplit(lines, '/'))[3]\n",
    "\n",
    "directory <- getwd()\n",
    "code <- readLines(glue::glue(\"{directory}/access_token.txt\"))\n",
    "# writeLines(access_token, glue::glue(\"{directory}/access_token.txt\"))\n",
    "\n",
    "# Establish a CAS session\n",
    "\n",
    "url <- paste0(baseURL, \"/cas-shared-default-http\")\n",
    "# Establish a CAS session\n",
    "conn <- CAS(url, protocol='https', password=code)\n",
    "\n",
    "conn"
   ]
  },
  {
   "cell_type": "markdown",
   "id": "33c63453-3c3f-4d93-8fc9-0d65c78ee584",
   "metadata": {},
   "source": [
    "## Run commands\n",
    "We've provided two simple commands to demonstrate how to make calls to CAS"
   ]
  },
  {
   "cell_type": "code",
   "execution_count": null,
   "id": "c3b65950-765f-41f8-8dc3-7f79eef889f2",
   "metadata": {},
   "outputs": [],
   "source": [
    "# Load a data set into CAS\n",
    "cas.table.dropTable(conn, caslib = \"Public\", name = \"hmeqct\", quiet = TRUE)\n",
    "hmeqct <- cas.read.csv(conn, \"/home/shared_data/hmeq.csv\", casOut = list(name = 'hmeqct', promote = TRUE))"
   ]
  },
  {
   "cell_type": "code",
   "execution_count": null,
   "id": "11234a56-521f-4244-9dba-2a9534090880",
   "metadata": {},
   "outputs": [],
   "source": [
    "head(hmeqct)"
   ]
  },
  {
   "cell_type": "code",
   "execution_count": null,
   "id": "d6d20a70-73c9-41e4-9994-5c56bd34b633",
   "metadata": {},
   "outputs": [],
   "source": [
    "# Ends the CAS session\n",
    "cas.close(conn)"
   ]
  },
  {
   "cell_type": "code",
   "execution_count": null,
   "id": "55e3b0c7-08e6-44da-926a-05b588e7b42a",
   "metadata": {},
   "outputs": [],
   "source": []
  }
 ],
 "metadata": {
  "kernelspec": {
   "display_name": "R",
   "language": "R",
   "name": "ir"
  },
  "language_info": {
   "codemirror_mode": "r",
   "file_extension": ".r",
   "mimetype": "text/x-r-source",
   "name": "R",
   "pygments_lexer": "r",
   "version": "4.0.2"
  }
 },
 "nbformat": 4,
 "nbformat_minor": 5
}
